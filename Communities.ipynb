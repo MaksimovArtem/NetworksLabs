{
 "cells": [
  {
   "cell_type": "code",
   "execution_count": 1,
   "metadata": {},
   "outputs": [],
   "source": [
    "import networkx as nx\n",
    "import matplotlib.pyplot as plt\n",
    "import numpy as np"
   ]
  },
  {
   "cell_type": "markdown",
   "metadata": {},
   "source": [
    "Для реализации функции rand_index была использована следующия структура данных:\n",
    "\n",
    "Словарь, ключами которого являются ребра, а значениями - флаги 0/1 для случаев когда оба конца ребра находятся в одном и разных разбиениях графа соответсвенно.\n",
    "\n",
    "Изначальное разбиение получалось следующим образом:\n",
    "    \n",
    "  - 0...(N/2-1) вершины принадлежат разбиению 1;\n",
    "  - N/2...N принадлежат разбиению 2.\n",
    "\n",
    "Это обусловлено работой генератора графа з библиотеки NetworkX.\n",
    "\n",
    "С ним сравнивалось разбиение на кластеры, полученное алгоритмом Кернигана-Лина, также реализованного в данной библиотеке."
   ]
  },
  {
   "cell_type": "code",
   "execution_count": 2,
   "metadata": {},
   "outputs": [],
   "source": [
    "def graph_to_edge_structure(graph, partition):\n",
    "    (Cluster1,Cluster2) = partition\n",
    "    Edges = [(X,Y) for (X,Y,_) in list(nx.to_edgelist(graph))]\n",
    "    Structure = dict()\n",
    "    for (X,Y) in Edges:\n",
    "        if (X in Cluster1 and Y in Cluster1) or (X in Cluster2 and Y in Cluster2):\n",
    "            Structure[(X,Y)] = 0;\n",
    "        else:\n",
    "            Structure[(X,Y)] = 1\n",
    "    return Structure"
   ]
  },
  {
   "cell_type": "markdown",
   "metadata": {},
   "source": [
    "Для обоих разбиений - до и после кластеризации строилась указанная выше структура и после этого словари построчно сравнивались.\n",
    "\n",
    "Выделялись следующие случаи:\n",
    "\n",
    "  - Группа А. В обеих структурах значения совпадали и были равны 0. Это означает, что в обоих разбиениях обе вершины ребра находились в одном кластере.\n",
    "  - Группа В. В обеих структурах значения совпадали и были равны 1. Это означает, что в обоих разбиениях вершины ребра находились в разных кластерах.\n",
    "  - Группа С. Значение в первой структуре было меньше значения во второй. Это означает, что до кластеризации обе вершины были в одном кластере, а после оказались в разных.\n",
    "  - Группа D. Значение в первой структуре было больше значения во второй. Это означает, что до кластеризации вершины были в в разных кластерах, а после оказались в одном.\n",
    "\n",
    "На основе количества элементов, попавших в разные группы, значение Rand Index считалось по следующей формуле:\n",
    "    \n",
    "    RandIndex = [size(A) + size(B)] / [size(A) + size(B) + size(C) + size(D)]"
   ]
  },
  {
   "cell_type": "code",
   "execution_count": 3,
   "metadata": {},
   "outputs": [],
   "source": [
    "def rand_index(graph1, partition):#partiton = (Cluster1,Cluster2) after \n",
    "    Structure1 = graph_to_edge_structure(graph1,([i for i in range(0,3)],[i for i in range(3,6)]))\n",
    "    Structure2 = graph_to_edge_structure(graph,partition)\n",
    "    classes=[0,0,0,0]\n",
    "    \n",
    "    print(\"Partition: {}\\n\".format(partition))\n",
    "    for row in Structure1:\n",
    "        if Structure1[row] == Structure2[row] == 0:\n",
    "            classes[0] += 1;\n",
    "        elif Structure1[row] == Structure2[row] == 1:\n",
    "            classes[1] += 1;\n",
    "        elif Structure1[row] < Structure2[row]:\n",
    "            classes[2] += 1;\n",
    "        else:\n",
    "            classes[3] += 1\n",
    "    \n",
    "    print(\"Classes: {}\\n\".format(classes))\n",
    "    assert np.sum(classes) == len(list(nx.to_edgelist(graph))), \"Wrong number!\"\n",
    "    \n",
    "    r_index = (classes[0] + classes[1])/np.sum(classes)\n",
    "    return r_index"
   ]
  },
  {
   "cell_type": "code",
   "execution_count": null,
   "metadata": {},
   "outputs": [],
   "source": []
  },
  {
   "cell_type": "code",
   "execution_count": null,
   "metadata": {},
   "outputs": [],
   "source": []
  },
  {
   "cell_type": "code",
   "execution_count": null,
   "metadata": {},
   "outputs": [],
   "source": [
    "X=49\n",
    "graph = nx.planted_partition_graph(2,50, X/49, 0/49)\n",
    "plt.figure(figsize=(10,10))\n",
    "nx.draw_shell(graph, with_labels=True)"
   ]
  },
  {
   "cell_type": "code",
   "execution_count": null,
   "metadata": {},
   "outputs": [],
   "source": []
  }
 ],
 "metadata": {
  "kernelspec": {
   "display_name": "Python 3",
   "language": "python",
   "name": "python3"
  },
  "language_info": {
   "codemirror_mode": {
    "name": "ipython",
    "version": 3
   },
   "file_extension": ".py",
   "mimetype": "text/x-python",
   "name": "python",
   "nbconvert_exporter": "python",
   "pygments_lexer": "ipython3",
   "version": "3.6.9"
  }
 },
 "nbformat": 4,
 "nbformat_minor": 4
}
